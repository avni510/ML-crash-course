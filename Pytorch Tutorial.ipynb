{
 "cells": [
  {
   "cell_type": "code",
   "execution_count": 39,
   "id": "2f98a4b1",
   "metadata": {},
   "outputs": [],
   "source": [
    "import numpy as np\n",
    "import random\n",
    "import matplotlib.pyplot as plt"
   ]
  },
  {
   "cell_type": "code",
   "execution_count": 40,
   "id": "1c9b591e",
   "metadata": {},
   "outputs": [],
   "source": [
    "np.random.seed(42)\n",
    "\n",
    "# creates a matrix of 100 X 1 of numbers from 0 to 1 \n",
    "x = np.random.rand(100, 1)\n",
    "assert x.shape == (100, 1)"
   ]
  },
  {
   "cell_type": "code",
   "execution_count": 41,
   "id": "ab95ec52",
   "metadata": {},
   "outputs": [],
   "source": [
    "y = 1 + 2 * x +.1 * np.random.randn(100, 1)"
   ]
  },
  {
   "cell_type": "code",
   "execution_count": 42,
   "id": "140e589a",
   "metadata": {},
   "outputs": [],
   "source": [
    "# creates an array from 0 to 100\n",
    "idx = np.arange(100)\n",
    "np.random.shuffle(idx)"
   ]
  },
  {
   "cell_type": "code",
   "execution_count": 43,
   "id": "1e27a6ec",
   "metadata": {},
   "outputs": [],
   "source": [
    "# Training index\n",
    "train_idx = idx[:80]\n",
    "\n",
    "# Validation indices\n",
    "val_idx = idx[80:]"
   ]
  },
  {
   "cell_type": "code",
   "execution_count": 44,
   "id": "ef8118cb",
   "metadata": {},
   "outputs": [],
   "source": [
    "x_train, y_train = x[train_idx], y[train_idx]\n",
    "x_val, y_val = x[val_idx], y[val_idx]"
   ]
  },
  {
   "cell_type": "code",
   "execution_count": 45,
   "id": "994b998d",
   "metadata": {},
   "outputs": [
    {
     "name": "stdout",
     "output_type": "stream",
     "text": [
      "Training Set\n"
     ]
    },
    {
     "data": {
      "image/png": "[encoded data removed]",
      "text/plain": [
       "<Figure size 432x288 with 1 Axes>"
      ]
     },
     "metadata": {
      "needs_background": "light"
     },
     "output_type": "display_data"
    }
   ],
   "source": [
    "plt.scatter(x_train, y_train)\n",
    "print(\"Training Set\")\n",
    "plt.show()"
   ]
  },
  {
   "cell_type": "code",
   "execution_count": 46,
   "id": "c6b2f5ba",
   "metadata": {},
   "outputs": [
    {
     "name": "stdout",
     "output_type": "stream",
     "text": [
      "Validation Set\n"
     ]
    },
    {
     "data": {
      "image/png": "[encoded data removed]",
      "text/plain": [
       "<Figure size 432x288 with 1 Axes>"
      ]
     },
     "metadata": {
      "needs_background": "light"
     },
     "output_type": "display_data"
    }
   ],
   "source": [
    "plt.scatter(x_val, y_val)\n",
    "print(\"Validation Set\")\n",
    "plt.show()"
   ]
  },
  {
   "cell_type": "code",
   "execution_count": 47,
   "id": "6e51146f",
   "metadata": {},
   "outputs": [],
   "source": [
    "np.random.seed(42)\n",
    "a = np.random.randn(1)\n",
    "b = np.random.randn(1)"
   ]
  },
  {
   "cell_type": "code",
   "execution_count": 48,
   "id": "ea064212",
   "metadata": {},
   "outputs": [
    {
     "name": "stdout",
     "output_type": "stream",
     "text": [
      "[0.49671415] [-0.1382643]\n"
     ]
    }
   ],
   "source": [
    "print(a, b)"
   ]
  },
  {
   "cell_type": "code",
   "execution_count": 49,
   "id": "07b7d81f",
   "metadata": {},
   "outputs": [],
   "source": [
    "# learning rate\n",
    "lr = 1e-1\n",
    "# number of epochs\n",
    "n_epochs = 1000"
   ]
  },
  {
   "cell_type": "code",
   "execution_count": 50,
   "id": "5cf0db22",
   "metadata": {},
   "outputs": [
    {
     "name": "stdout",
     "output_type": "stream",
     "text": [
      "[1.02354094] [1.96896411]\n"
     ]
    }
   ],
   "source": [
    "for epoch in range(n_epochs):\n",
    "    # compute predicted output\n",
    "    y_hat = a + b * x_train\n",
    "    \n",
    "    error = y_train - y_hat\n",
    "    # compute mse\n",
    "    loss = (error ** 2).mean()\n",
    "    \n",
    "    # compute the gradients\n",
    "    a_grad = -2 * error.mean()\n",
    "    b_grad = -2 * (x_train * error).mean()\n",
    "    \n",
    "    # update parameters\n",
    "    a = a - lr * a_grad\n",
    "    b = b - lr * b_grad\n",
    "    \n",
    "print(a, b)"
   ]
  },
  {
   "cell_type": "code",
   "execution_count": 54,
   "id": "8388fe0d",
   "metadata": {},
   "outputs": [
    {
     "name": "stdout",
     "output_type": "stream",
     "text": [
      "[1.02354075] [1.96896447]\n"
     ]
    }
   ],
   "source": [
    "from sklearn.linear_model import LinearRegression\n",
    "linr = LinearRegression()\n",
    "linr.fit(x_train, y_train)\n",
    "print(linr.intercept_, linr.coef_[0])"
   ]
  },
  {
   "cell_type": "code",
   "execution_count": 62,
   "id": "28a8910e",
   "metadata": {},
   "outputs": [],
   "source": [
    "import torch\n",
    "import torch.optim as optim\n",
    "import torch.nn as nn\n",
    "from torchviz import make_dot"
   ]
  },
  {
   "cell_type": "code",
   "execution_count": 85,
   "id": "cf03c238",
   "metadata": {},
   "outputs": [],
   "source": [
    "# checks if the GPU is available, if not it uses the cpu\n",
    "device_name = 'cuda' if torch.cuda.is_available() else 'cpu'\n",
    "device = torch.device(device_name)"
   ]
  },
  {
   "cell_type": "code",
   "execution_count": 86,
   "id": "2fbcee51",
   "metadata": {},
   "outputs": [],
   "source": [
    "# convert numpy arrays into the tensor data structure\n",
    "x_train_tensor = torch.from_numpy(x_train).float().to(device)\n",
    "y_train_tensor = torch.from_numpy(y_train).float().to(device)"
   ]
  },
  {
   "cell_type": "code",
   "execution_count": 87,
   "id": "c33eb841",
   "metadata": {},
   "outputs": [
    {
     "name": "stdout",
     "output_type": "stream",
     "text": [
      "<class 'numpy.ndarray'> <class 'torch.Tensor'> torch.FloatTensor\n"
     ]
    }
   ],
   "source": [
    "print(type(x_train), type(x_train_tensor), x_train_tensor.type())"
   ]
  },
  {
   "cell_type": "code",
   "execution_count": 139,
   "id": "b532100b",
   "metadata": {},
   "outputs": [
    {
     "name": "stdout",
     "output_type": "stream",
     "text": [
      "tensor([0.3367], requires_grad=True) tensor([0.1288], requires_grad=True)\n"
     ]
    }
   ],
   "source": [
    "# In order to send these parameters to the right device, we must set \n",
    "# it up like this\n",
    "torch.manual_seed(42)\n",
    "\n",
    "a = torch.randn(1, requires_grad=True, dtype=torch.float, device=device)\n",
    "b = torch.randn(1, requires_grad=True, dtype=torch.float, device=device)\n",
    "\n",
    "print(a, b)"
   ]
  },
  {
   "cell_type": "code",
   "execution_count": 140,
   "id": "baae49a4",
   "metadata": {},
   "outputs": [
    {
     "name": "stdout",
     "output_type": "stream",
     "text": [
      "tensor([1.0235], requires_grad=True) tensor([1.9690], requires_grad=True)\n"
     ]
    }
   ],
   "source": [
    "for epoch in range(n_epochs):\n",
    "    yhat = a + b * x_train_tensor\n",
    "    error = y_train_tensor - yhat\n",
    "    loss = (error ** 2).mean()\n",
    "    \n",
    "    # this is what we want to minimize and compute the gradient of\n",
    "    loss.backward()\n",
    "    \n",
    "    # We use no grad to keep the update out of the gradient computation\n",
    "    with torch.no_grad():\n",
    "        a -= lr * a.grad\n",
    "        b -= lr * b.grad\n",
    "        \n",
    "    # gradients are accumlated (ex: it will continue to add on the \n",
    "    # previous gradient value). This will zero it out\n",
    "    \n",
    "    a.grad.zero_()\n",
    "    b.grad.zero_()\n",
    "print(a, b)    "
   ]
  },
  {
   "cell_type": "code",
   "execution_count": 156,
   "id": "76346277",
   "metadata": {},
   "outputs": [],
   "source": [
    "torch.manual_seed(42)\n",
    "\n",
    "a = torch.randn(1, requires_grad=True, dtype=torch.float, device=device)\n",
    "b = torch.randn(1, requires_grad=True, dtype=torch.float, device=device)\n",
    "\n",
    "yhat = a + b * x_train_tensor\n",
    "error = y_train_tensor - yhat\n",
    "loss = (error ** 2).mean()"
   ]
  },
  {
   "cell_type": "code",
   "execution_count": 157,
   "id": "b21153f6",
   "metadata": {},
   "outputs": [
    {
     "data": {
      "image/svg+xml": [
       "<?xml version=\"1.0\" encoding=\"UTF-8\" standalone=\"no\"?>\n",
       "<!DOCTYPE svg PUBLIC \"-//W3C//DTD SVG 1.1//EN\"\n",
       " \"http://www.w3.org/Graphics/SVG/1.1/DTD/svg11.dtd\">\n",
       "<!-- Generated by graphviz version 2.50.0 (0)\n",
       " -->\n",
       "<!-- Pages: 1 -->\n",
       "<svg width=\"222pt\" height=\"283pt\"\n",
       " viewBox=\"0.00 0.00 222.00 283.00\" xmlns=\"http://www.w3.org/2000/svg\" xmlns:xlink=\"http://www.w3.org/1999/xlink\">\n",
       "<g id=\"graph0\" class=\"graph\" transform=\"scale(1 1) rotate(0) translate(4 279)\">\n",
       "<polygon fill=\"white\" stroke=\"transparent\" points=\"-4,4 -4,-279 218,-279 218,4 -4,4\"/>\n",
       "<!-- 4672116192 -->\n",
       "<g id=\"node1\" class=\"node\">\n",
       "<title>4672116192</title>\n",
       "<polygon fill=\"#caff70\" stroke=\"black\" points=\"139,-31 74,-31 74,0 139,0 139,-31\"/>\n",
       "<text text-anchor=\"middle\" x=\"106.5\" y=\"-7\" font-family=\"monospace\" font-size=\"10.00\"> (80, 1)</text>\n",
       "</g>\n",
       "<!-- 4671503808 -->\n",
       "<g id=\"node2\" class=\"node\">\n",
       "<title>4671503808</title>\n",
       "<polygon fill=\"lightgrey\" stroke=\"black\" points=\"151,-86 62,-86 62,-67 151,-67 151,-86\"/>\n",
       "<text text-anchor=\"middle\" x=\"106.5\" y=\"-74\" font-family=\"monospace\" font-size=\"10.00\">AddBackward0</text>\n",
       "</g>\n",
       "<!-- 4671503808&#45;&gt;4672116192 -->\n",
       "<g id=\"edge6\" class=\"edge\">\n",
       "<title>4671503808&#45;&gt;4672116192</title>\n",
       "<path fill=\"none\" stroke=\"black\" d=\"M106.5,-66.79C106.5,-60.07 106.5,-50.4 106.5,-41.34\"/>\n",
       "<polygon fill=\"black\" stroke=\"black\" points=\"110,-41.19 106.5,-31.19 103,-41.19 110,-41.19\"/>\n",
       "</g>\n",
       "<!-- 4671502464 -->\n",
       "<g id=\"node3\" class=\"node\">\n",
       "<title>4671502464</title>\n",
       "<polygon fill=\"lightgrey\" stroke=\"black\" points=\"101,-141 0,-141 0,-122 101,-122 101,-141\"/>\n",
       "<text text-anchor=\"middle\" x=\"50.5\" y=\"-129\" font-family=\"monospace\" font-size=\"10.00\">AccumulateGrad</text>\n",
       "</g>\n",
       "<!-- 4671502464&#45;&gt;4671503808 -->\n",
       "<g id=\"edge1\" class=\"edge\">\n",
       "<title>4671502464&#45;&gt;4671503808</title>\n",
       "<path fill=\"none\" stroke=\"black\" d=\"M59.5,-121.98C67.69,-114.23 80.01,-102.58 89.97,-93.14\"/>\n",
       "<polygon fill=\"black\" stroke=\"black\" points=\"92.48,-95.59 97.34,-86.17 87.67,-90.5 92.48,-95.59\"/>\n",
       "</g>\n",
       "<!-- 4672079488 -->\n",
       "<g id=\"node4\" class=\"node\">\n",
       "<title>4672079488</title>\n",
       "<polygon fill=\"lightblue\" stroke=\"black\" points=\"77.5,-208 23.5,-208 23.5,-177 77.5,-177 77.5,-208\"/>\n",
       "<text text-anchor=\"middle\" x=\"50.5\" y=\"-184\" font-family=\"monospace\" font-size=\"10.00\"> (1)</text>\n",
       "</g>\n",
       "<!-- 4672079488&#45;&gt;4671502464 -->\n",
       "<g id=\"edge2\" class=\"edge\">\n",
       "<title>4672079488&#45;&gt;4671502464</title>\n",
       "<path fill=\"none\" stroke=\"black\" d=\"M50.5,-176.92C50.5,-169.22 50.5,-159.69 50.5,-151.43\"/>\n",
       "<polygon fill=\"black\" stroke=\"black\" points=\"54,-151.25 50.5,-141.25 47,-151.25 54,-151.25\"/>\n",
       "</g>\n",
       "<!-- 4671502704 -->\n",
       "<g id=\"node5\" class=\"node\">\n",
       "<title>4671502704</title>\n",
       "<polygon fill=\"lightgrey\" stroke=\"black\" points=\"208,-141 119,-141 119,-122 208,-122 208,-141\"/>\n",
       "<text text-anchor=\"middle\" x=\"163.5\" y=\"-129\" font-family=\"monospace\" font-size=\"10.00\">MulBackward0</text>\n",
       "</g>\n",
       "<!-- 4671502704&#45;&gt;4671503808 -->\n",
       "<g id=\"edge3\" class=\"edge\">\n",
       "<title>4671502704&#45;&gt;4671503808</title>\n",
       "<path fill=\"none\" stroke=\"black\" d=\"M154.34,-121.98C146,-114.23 133.47,-102.58 123.32,-93.14\"/>\n",
       "<polygon fill=\"black\" stroke=\"black\" points=\"125.53,-90.42 115.82,-86.17 120.76,-95.54 125.53,-90.42\"/>\n",
       "</g>\n",
       "<!-- 4671503760 -->\n",
       "<g id=\"node6\" class=\"node\">\n",
       "<title>4671503760</title>\n",
       "<polygon fill=\"lightgrey\" stroke=\"black\" points=\"214,-202 113,-202 113,-183 214,-183 214,-202\"/>\n",
       "<text text-anchor=\"middle\" x=\"163.5\" y=\"-190\" font-family=\"monospace\" font-size=\"10.00\">AccumulateGrad</text>\n",
       "</g>\n",
       "<!-- 4671503760&#45;&gt;4671502704 -->\n",
       "<g id=\"edge4\" class=\"edge\">\n",
       "<title>4671503760&#45;&gt;4671502704</title>\n",
       "<path fill=\"none\" stroke=\"black\" d=\"M163.5,-182.79C163.5,-174.6 163.5,-162.06 163.5,-151.55\"/>\n",
       "<polygon fill=\"black\" stroke=\"black\" points=\"167,-151.24 163.5,-141.24 160,-151.24 167,-151.24\"/>\n",
       "</g>\n",
       "<!-- 4672116032 -->\n",
       "<g id=\"node7\" class=\"node\">\n",
       "<title>4672116032</title>\n",
       "<polygon fill=\"lightblue\" stroke=\"black\" points=\"190.5,-275 136.5,-275 136.5,-244 190.5,-244 190.5,-275\"/>\n",
       "<text text-anchor=\"middle\" x=\"163.5\" y=\"-251\" font-family=\"monospace\" font-size=\"10.00\"> (1)</text>\n",
       "</g>\n",
       "<!-- 4672116032&#45;&gt;4671503760 -->\n",
       "<g id=\"edge5\" class=\"edge\">\n",
       "<title>4672116032&#45;&gt;4671503760</title>\n",
       "<path fill=\"none\" stroke=\"black\" d=\"M163.5,-243.75C163.5,-234.39 163.5,-222.19 163.5,-212.16\"/>\n",
       "<polygon fill=\"black\" stroke=\"black\" points=\"167,-212.02 163.5,-202.02 160,-212.02 167,-212.02\"/>\n",
       "</g>\n",
       "</g>\n",
       "</svg>\n"
      ],
      "text/plain": [
       "<graphviz.graphs.Digraph at 0x116717940>"
      ]
     },
     "execution_count": 157,
     "metadata": {},
     "output_type": "execute_result"
    }
   ],
   "source": [
    "# yhat = a + b * x_train_tensor\n",
    "\n",
    "# blue boxes - the tensors we use as parameters (a and b)\n",
    "# gray boxes - a python operation that involves a gradient computing tensor\n",
    "# green box - starting point for the computation of gradients \n",
    "# we don't have a box for our data (x_train_tensor) \n",
    "# because we are not computing gradients on it\n",
    "\n",
    "# the graph only shows gradient computing tensors and its dependencies\n",
    "make_dot(yhat)"
   ]
  },
  {
   "cell_type": "code",
   "execution_count": 150,
   "id": "d39f5b4f",
   "metadata": {},
   "outputs": [
    {
     "data": {
      "image/svg+xml": [
       "<?xml version=\"1.0\" encoding=\"UTF-8\" standalone=\"no\"?>\n",
       "<!DOCTYPE svg PUBLIC \"-//W3C//DTD SVG 1.1//EN\"\n",
       " \"http://www.w3.org/Graphics/SVG/1.1/DTD/svg11.dtd\">\n",
       "<!-- Generated by graphviz version 2.50.0 (0)\n",
       " -->\n",
       "<!-- Pages: 1 -->\n",
       "<svg width=\"222pt\" height=\"338pt\"\n",
       " viewBox=\"0.00 0.00 222.00 338.00\" xmlns=\"http://www.w3.org/2000/svg\" xmlns:xlink=\"http://www.w3.org/1999/xlink\">\n",
       "<g id=\"graph0\" class=\"graph\" transform=\"scale(1 1) rotate(0) translate(4 334)\">\n",
       "<polygon fill=\"white\" stroke=\"transparent\" points=\"-4,4 -4,-334 218,-334 218,4 -4,4\"/>\n",
       "<!-- 4672122688 -->\n",
       "<g id=\"node1\" class=\"node\">\n",
       "<title>4672122688</title>\n",
       "<polygon fill=\"#caff70\" stroke=\"black\" points=\"139,-31 74,-31 74,0 139,0 139,-31\"/>\n",
       "<text text-anchor=\"middle\" x=\"106.5\" y=\"-7\" font-family=\"monospace\" font-size=\"10.00\"> (80, 1)</text>\n",
       "</g>\n",
       "<!-- 4671711216 -->\n",
       "<g id=\"node2\" class=\"node\">\n",
       "<title>4671711216</title>\n",
       "<polygon fill=\"lightgrey\" stroke=\"black\" points=\"151,-86 62,-86 62,-67 151,-67 151,-86\"/>\n",
       "<text text-anchor=\"middle\" x=\"106.5\" y=\"-74\" font-family=\"monospace\" font-size=\"10.00\">SubBackward0</text>\n",
       "</g>\n",
       "<!-- 4671711216&#45;&gt;4672122688 -->\n",
       "<g id=\"edge7\" class=\"edge\">\n",
       "<title>4671711216&#45;&gt;4672122688</title>\n",
       "<path fill=\"none\" stroke=\"black\" d=\"M106.5,-66.79C106.5,-60.07 106.5,-50.4 106.5,-41.34\"/>\n",
       "<polygon fill=\"black\" stroke=\"black\" points=\"110,-41.19 106.5,-31.19 103,-41.19 110,-41.19\"/>\n",
       "</g>\n",
       "<!-- 4671712080 -->\n",
       "<g id=\"node3\" class=\"node\">\n",
       "<title>4671712080</title>\n",
       "<polygon fill=\"lightgrey\" stroke=\"black\" points=\"151,-141 62,-141 62,-122 151,-122 151,-141\"/>\n",
       "<text text-anchor=\"middle\" x=\"106.5\" y=\"-129\" font-family=\"monospace\" font-size=\"10.00\">AddBackward0</text>\n",
       "</g>\n",
       "<!-- 4671712080&#45;&gt;4671711216 -->\n",
       "<g id=\"edge1\" class=\"edge\">\n",
       "<title>4671712080&#45;&gt;4671711216</title>\n",
       "<path fill=\"none\" stroke=\"black\" d=\"M106.5,-121.75C106.5,-114.8 106.5,-104.85 106.5,-96.13\"/>\n",
       "<polygon fill=\"black\" stroke=\"black\" points=\"110,-96.09 106.5,-86.09 103,-96.09 110,-96.09\"/>\n",
       "</g>\n",
       "<!-- 4671712944 -->\n",
       "<g id=\"node4\" class=\"node\">\n",
       "<title>4671712944</title>\n",
       "<polygon fill=\"lightgrey\" stroke=\"black\" points=\"101,-196 0,-196 0,-177 101,-177 101,-196\"/>\n",
       "<text text-anchor=\"middle\" x=\"50.5\" y=\"-184\" font-family=\"monospace\" font-size=\"10.00\">AccumulateGrad</text>\n",
       "</g>\n",
       "<!-- 4671712944&#45;&gt;4671712080 -->\n",
       "<g id=\"edge2\" class=\"edge\">\n",
       "<title>4671712944&#45;&gt;4671712080</title>\n",
       "<path fill=\"none\" stroke=\"black\" d=\"M59.5,-176.98C67.69,-169.23 80.01,-157.58 89.97,-148.14\"/>\n",
       "<polygon fill=\"black\" stroke=\"black\" points=\"92.48,-150.59 97.34,-141.17 87.67,-145.5 92.48,-150.59\"/>\n",
       "</g>\n",
       "<!-- 4671654224 -->\n",
       "<g id=\"node5\" class=\"node\">\n",
       "<title>4671654224</title>\n",
       "<polygon fill=\"lightblue\" stroke=\"black\" points=\"77.5,-263 23.5,-263 23.5,-232 77.5,-232 77.5,-263\"/>\n",
       "<text text-anchor=\"middle\" x=\"50.5\" y=\"-239\" font-family=\"monospace\" font-size=\"10.00\"> (1)</text>\n",
       "</g>\n",
       "<!-- 4671654224&#45;&gt;4671712944 -->\n",
       "<g id=\"edge3\" class=\"edge\">\n",
       "<title>4671654224&#45;&gt;4671712944</title>\n",
       "<path fill=\"none\" stroke=\"black\" d=\"M50.5,-231.92C50.5,-224.22 50.5,-214.69 50.5,-206.43\"/>\n",
       "<polygon fill=\"black\" stroke=\"black\" points=\"54,-206.25 50.5,-196.25 47,-206.25 54,-206.25\"/>\n",
       "</g>\n",
       "<!-- 4671710400 -->\n",
       "<g id=\"node6\" class=\"node\">\n",
       "<title>4671710400</title>\n",
       "<polygon fill=\"lightgrey\" stroke=\"black\" points=\"208,-196 119,-196 119,-177 208,-177 208,-196\"/>\n",
       "<text text-anchor=\"middle\" x=\"163.5\" y=\"-184\" font-family=\"monospace\" font-size=\"10.00\">MulBackward0</text>\n",
       "</g>\n",
       "<!-- 4671710400&#45;&gt;4671712080 -->\n",
       "<g id=\"edge4\" class=\"edge\">\n",
       "<title>4671710400&#45;&gt;4671712080</title>\n",
       "<path fill=\"none\" stroke=\"black\" d=\"M154.34,-176.98C146,-169.23 133.47,-157.58 123.32,-148.14\"/>\n",
       "<polygon fill=\"black\" stroke=\"black\" points=\"125.53,-145.42 115.82,-141.17 120.76,-150.54 125.53,-145.42\"/>\n",
       "</g>\n",
       "<!-- 4671711792 -->\n",
       "<g id=\"node7\" class=\"node\">\n",
       "<title>4671711792</title>\n",
       "<polygon fill=\"lightgrey\" stroke=\"black\" points=\"214,-257 113,-257 113,-238 214,-238 214,-257\"/>\n",
       "<text text-anchor=\"middle\" x=\"163.5\" y=\"-245\" font-family=\"monospace\" font-size=\"10.00\">AccumulateGrad</text>\n",
       "</g>\n",
       "<!-- 4671711792&#45;&gt;4671710400 -->\n",
       "<g id=\"edge5\" class=\"edge\">\n",
       "<title>4671711792&#45;&gt;4671710400</title>\n",
       "<path fill=\"none\" stroke=\"black\" d=\"M163.5,-237.79C163.5,-229.6 163.5,-217.06 163.5,-206.55\"/>\n",
       "<polygon fill=\"black\" stroke=\"black\" points=\"167,-206.24 163.5,-196.24 160,-206.24 167,-206.24\"/>\n",
       "</g>\n",
       "<!-- 4672122768 -->\n",
       "<g id=\"node8\" class=\"node\">\n",
       "<title>4672122768</title>\n",
       "<polygon fill=\"lightblue\" stroke=\"black\" points=\"190.5,-330 136.5,-330 136.5,-299 190.5,-299 190.5,-330\"/>\n",
       "<text text-anchor=\"middle\" x=\"163.5\" y=\"-306\" font-family=\"monospace\" font-size=\"10.00\"> (1)</text>\n",
       "</g>\n",
       "<!-- 4672122768&#45;&gt;4671711792 -->\n",
       "<g id=\"edge6\" class=\"edge\">\n",
       "<title>4672122768&#45;&gt;4671711792</title>\n",
       "<path fill=\"none\" stroke=\"black\" d=\"M163.5,-298.75C163.5,-289.39 163.5,-277.19 163.5,-267.16\"/>\n",
       "<polygon fill=\"black\" stroke=\"black\" points=\"167,-267.02 163.5,-257.02 160,-267.02 167,-267.02\"/>\n",
       "</g>\n",
       "</g>\n",
       "</svg>\n"
      ],
      "text/plain": [
       "<graphviz.graphs.Digraph at 0x11674a2e0>"
      ]
     },
     "execution_count": 150,
     "metadata": {},
     "output_type": "execute_result"
    }
   ],
   "source": [
    "make_dot(error)"
   ]
  },
  {
   "cell_type": "code",
   "execution_count": 153,
   "id": "ea254629",
   "metadata": {},
   "outputs": [
    {
     "data": {
      "image/svg+xml": [
       "<?xml version=\"1.0\" encoding=\"UTF-8\" standalone=\"no\"?>\n",
       "<!DOCTYPE svg PUBLIC \"-//W3C//DTD SVG 1.1//EN\"\n",
       " \"http://www.w3.org/Graphics/SVG/1.1/DTD/svg11.dtd\">\n",
       "<!-- Generated by graphviz version 2.50.0 (0)\n",
       " -->\n",
       "<!-- Pages: 1 -->\n",
       "<svg width=\"222pt\" height=\"448pt\"\n",
       " viewBox=\"0.00 0.00 222.00 448.00\" xmlns=\"http://www.w3.org/2000/svg\" xmlns:xlink=\"http://www.w3.org/1999/xlink\">\n",
       "<g id=\"graph0\" class=\"graph\" transform=\"scale(1 1) rotate(0) translate(4 444)\">\n",
       "<polygon fill=\"white\" stroke=\"transparent\" points=\"-4,4 -4,-444 218,-444 218,4 -4,4\"/>\n",
       "<!-- 4672119008 -->\n",
       "<g id=\"node1\" class=\"node\">\n",
       "<title>4672119008</title>\n",
       "<polygon fill=\"#caff70\" stroke=\"black\" points=\"133.5,-31 79.5,-31 79.5,0 133.5,0 133.5,-31\"/>\n",
       "<text text-anchor=\"middle\" x=\"106.5\" y=\"-7\" font-family=\"monospace\" font-size=\"10.00\"> ()</text>\n",
       "</g>\n",
       "<!-- 4672155264 -->\n",
       "<g id=\"node2\" class=\"node\">\n",
       "<title>4672155264</title>\n",
       "<polygon fill=\"lightgrey\" stroke=\"black\" points=\"154,-86 59,-86 59,-67 154,-67 154,-86\"/>\n",
       "<text text-anchor=\"middle\" x=\"106.5\" y=\"-74\" font-family=\"monospace\" font-size=\"10.00\">MeanBackward0</text>\n",
       "</g>\n",
       "<!-- 4672155264&#45;&gt;4672119008 -->\n",
       "<g id=\"edge9\" class=\"edge\">\n",
       "<title>4672155264&#45;&gt;4672119008</title>\n",
       "<path fill=\"none\" stroke=\"black\" d=\"M106.5,-66.79C106.5,-60.07 106.5,-50.4 106.5,-41.34\"/>\n",
       "<polygon fill=\"black\" stroke=\"black\" points=\"110,-41.19 106.5,-31.19 103,-41.19 110,-41.19\"/>\n",
       "</g>\n",
       "<!-- 4672155360 -->\n",
       "<g id=\"node3\" class=\"node\">\n",
       "<title>4672155360</title>\n",
       "<polygon fill=\"lightgrey\" stroke=\"black\" points=\"151,-141 62,-141 62,-122 151,-122 151,-141\"/>\n",
       "<text text-anchor=\"middle\" x=\"106.5\" y=\"-129\" font-family=\"monospace\" font-size=\"10.00\">PowBackward0</text>\n",
       "</g>\n",
       "<!-- 4672155360&#45;&gt;4672155264 -->\n",
       "<g id=\"edge1\" class=\"edge\">\n",
       "<title>4672155360&#45;&gt;4672155264</title>\n",
       "<path fill=\"none\" stroke=\"black\" d=\"M106.5,-121.75C106.5,-114.8 106.5,-104.85 106.5,-96.13\"/>\n",
       "<polygon fill=\"black\" stroke=\"black\" points=\"110,-96.09 106.5,-86.09 103,-96.09 110,-96.09\"/>\n",
       "</g>\n",
       "<!-- 4672155456 -->\n",
       "<g id=\"node4\" class=\"node\">\n",
       "<title>4672155456</title>\n",
       "<polygon fill=\"lightgrey\" stroke=\"black\" points=\"151,-196 62,-196 62,-177 151,-177 151,-196\"/>\n",
       "<text text-anchor=\"middle\" x=\"106.5\" y=\"-184\" font-family=\"monospace\" font-size=\"10.00\">SubBackward0</text>\n",
       "</g>\n",
       "<!-- 4672155456&#45;&gt;4672155360 -->\n",
       "<g id=\"edge2\" class=\"edge\">\n",
       "<title>4672155456&#45;&gt;4672155360</title>\n",
       "<path fill=\"none\" stroke=\"black\" d=\"M106.5,-176.75C106.5,-169.8 106.5,-159.85 106.5,-151.13\"/>\n",
       "<polygon fill=\"black\" stroke=\"black\" points=\"110,-151.09 106.5,-141.09 103,-151.09 110,-151.09\"/>\n",
       "</g>\n",
       "<!-- 4672155552 -->\n",
       "<g id=\"node5\" class=\"node\">\n",
       "<title>4672155552</title>\n",
       "<polygon fill=\"lightgrey\" stroke=\"black\" points=\"151,-251 62,-251 62,-232 151,-232 151,-251\"/>\n",
       "<text text-anchor=\"middle\" x=\"106.5\" y=\"-239\" font-family=\"monospace\" font-size=\"10.00\">AddBackward0</text>\n",
       "</g>\n",
       "<!-- 4672155552&#45;&gt;4672155456 -->\n",
       "<g id=\"edge3\" class=\"edge\">\n",
       "<title>4672155552&#45;&gt;4672155456</title>\n",
       "<path fill=\"none\" stroke=\"black\" d=\"M106.5,-231.75C106.5,-224.8 106.5,-214.85 106.5,-206.13\"/>\n",
       "<polygon fill=\"black\" stroke=\"black\" points=\"110,-206.09 106.5,-196.09 103,-206.09 110,-206.09\"/>\n",
       "</g>\n",
       "<!-- 4672151616 -->\n",
       "<g id=\"node6\" class=\"node\">\n",
       "<title>4672151616</title>\n",
       "<polygon fill=\"lightgrey\" stroke=\"black\" points=\"101,-306 0,-306 0,-287 101,-287 101,-306\"/>\n",
       "<text text-anchor=\"middle\" x=\"50.5\" y=\"-294\" font-family=\"monospace\" font-size=\"10.00\">AccumulateGrad</text>\n",
       "</g>\n",
       "<!-- 4672151616&#45;&gt;4672155552 -->\n",
       "<g id=\"edge4\" class=\"edge\">\n",
       "<title>4672151616&#45;&gt;4672155552</title>\n",
       "<path fill=\"none\" stroke=\"black\" d=\"M59.5,-286.98C67.69,-279.23 80.01,-267.58 89.97,-258.14\"/>\n",
       "<polygon fill=\"black\" stroke=\"black\" points=\"92.48,-260.59 97.34,-251.17 87.67,-255.5 92.48,-260.59\"/>\n",
       "</g>\n",
       "<!-- 4601450800 -->\n",
       "<g id=\"node7\" class=\"node\">\n",
       "<title>4601450800</title>\n",
       "<polygon fill=\"lightblue\" stroke=\"black\" points=\"77.5,-373 23.5,-373 23.5,-342 77.5,-342 77.5,-373\"/>\n",
       "<text text-anchor=\"middle\" x=\"50.5\" y=\"-349\" font-family=\"monospace\" font-size=\"10.00\"> (1)</text>\n",
       "</g>\n",
       "<!-- 4601450800&#45;&gt;4672151616 -->\n",
       "<g id=\"edge5\" class=\"edge\">\n",
       "<title>4601450800&#45;&gt;4672151616</title>\n",
       "<path fill=\"none\" stroke=\"black\" d=\"M50.5,-341.92C50.5,-334.22 50.5,-324.69 50.5,-316.43\"/>\n",
       "<polygon fill=\"black\" stroke=\"black\" points=\"54,-316.25 50.5,-306.25 47,-316.25 54,-316.25\"/>\n",
       "</g>\n",
       "<!-- 4672155312 -->\n",
       "<g id=\"node8\" class=\"node\">\n",
       "<title>4672155312</title>\n",
       "<polygon fill=\"lightgrey\" stroke=\"black\" points=\"208,-306 119,-306 119,-287 208,-287 208,-306\"/>\n",
       "<text text-anchor=\"middle\" x=\"163.5\" y=\"-294\" font-family=\"monospace\" font-size=\"10.00\">MulBackward0</text>\n",
       "</g>\n",
       "<!-- 4672155312&#45;&gt;4672155552 -->\n",
       "<g id=\"edge6\" class=\"edge\">\n",
       "<title>4672155312&#45;&gt;4672155552</title>\n",
       "<path fill=\"none\" stroke=\"black\" d=\"M154.34,-286.98C146,-279.23 133.47,-267.58 123.32,-258.14\"/>\n",
       "<polygon fill=\"black\" stroke=\"black\" points=\"125.53,-255.42 115.82,-251.17 120.76,-260.54 125.53,-255.42\"/>\n",
       "</g>\n",
       "<!-- 4672151664 -->\n",
       "<g id=\"node9\" class=\"node\">\n",
       "<title>4672151664</title>\n",
       "<polygon fill=\"lightgrey\" stroke=\"black\" points=\"214,-367 113,-367 113,-348 214,-348 214,-367\"/>\n",
       "<text text-anchor=\"middle\" x=\"163.5\" y=\"-355\" font-family=\"monospace\" font-size=\"10.00\">AccumulateGrad</text>\n",
       "</g>\n",
       "<!-- 4672151664&#45;&gt;4672155312 -->\n",
       "<g id=\"edge7\" class=\"edge\">\n",
       "<title>4672151664&#45;&gt;4672155312</title>\n",
       "<path fill=\"none\" stroke=\"black\" d=\"M163.5,-347.79C163.5,-339.6 163.5,-327.06 163.5,-316.55\"/>\n",
       "<polygon fill=\"black\" stroke=\"black\" points=\"167,-316.24 163.5,-306.24 160,-316.24 167,-316.24\"/>\n",
       "</g>\n",
       "<!-- 4305194576 -->\n",
       "<g id=\"node10\" class=\"node\">\n",
       "<title>4305194576</title>\n",
       "<polygon fill=\"lightblue\" stroke=\"black\" points=\"190.5,-440 136.5,-440 136.5,-409 190.5,-409 190.5,-440\"/>\n",
       "<text text-anchor=\"middle\" x=\"163.5\" y=\"-416\" font-family=\"monospace\" font-size=\"10.00\"> (1)</text>\n",
       "</g>\n",
       "<!-- 4305194576&#45;&gt;4672151664 -->\n",
       "<g id=\"edge8\" class=\"edge\">\n",
       "<title>4305194576&#45;&gt;4672151664</title>\n",
       "<path fill=\"none\" stroke=\"black\" d=\"M163.5,-408.75C163.5,-399.39 163.5,-387.19 163.5,-377.16\"/>\n",
       "<polygon fill=\"black\" stroke=\"black\" points=\"167,-377.02 163.5,-367.02 160,-377.02 167,-377.02\"/>\n",
       "</g>\n",
       "</g>\n",
       "</svg>\n"
      ],
      "text/plain": [
       "<graphviz.graphs.Digraph at 0x1167b6dc0>"
      ]
     },
     "execution_count": 153,
     "metadata": {},
     "output_type": "execute_result"
    }
   ],
   "source": [
    "make_dot(loss)"
   ]
  },
  {
   "cell_type": "code",
   "execution_count": 163,
   "id": "2d413b27",
   "metadata": {},
   "outputs": [
    {
     "name": "stdout",
     "output_type": "stream",
     "text": [
      "tensor([0.3367], requires_grad=True) tensor([0.1288], requires_grad=True)\n",
      "tensor([1.0235], requires_grad=True) tensor([1.9690], requires_grad=True)\n"
     ]
    }
   ],
   "source": [
    "# using the SGD optimizer\n",
    "\n",
    "torch.manual_seed(42)\n",
    "a = torch.randn(1, requires_grad = True, dtype=torch.float, device=device)\n",
    "b = torch.randn(1, requires_grad = True, dtype=torch.float, device=device)\n",
    "\n",
    "print(a, b)\n",
    "\n",
    "lr = 1e-1\n",
    "n_epochs = 1000\n",
    "\n",
    "optimizer = optim.SGD([a, b], lr=lr)\n",
    "\n",
    "for epoch in range(n_epochs):\n",
    "    yhat = a + b * x_train_tensor\n",
    "    error = y_train_tensor - yhat\n",
    "    loss = (error ** 2).mean()\n",
    "    \n",
    "    # computes the gradient with respect to the parameters specificed\n",
    "    # as requires gradient equals True\n",
    "    loss.backward()\n",
    "    \n",
    "    # replacing the manual update of parameters\n",
    "    optimizer.step()\n",
    "    \n",
    "    # do not accumlate gradients\n",
    "    optimizer.zero_grad()\n",
    "\n",
    "print(a, b)"
   ]
  },
  {
   "cell_type": "code",
   "execution_count": 165,
   "id": "06e6cf02",
   "metadata": {},
   "outputs": [
    {
     "name": "stdout",
     "output_type": "stream",
     "text": [
      "tensor([0.3367], requires_grad=True) tensor([0.1288], requires_grad=True)\n",
      "tensor([1.0235], requires_grad=True) tensor([1.9690], requires_grad=True)\n"
     ]
    }
   ],
   "source": [
    "torch.manual_seed(42)\n",
    "a = torch.randn(1, requires_grad=True, dtype=torch.float, device=device)\n",
    "b = torch.randn(1, requires_grad=True, dtype=torch.float, device=device)\n",
    "\n",
    "print(a, b)\n",
    "\n",
    "lr = 1e-1\n",
    "n_epochs = 1000\n",
    "\n",
    "loss_fn = nn.MSELoss(reduction='mean')\n",
    "\n",
    "optimizer = optim.SGD([a, b], lr=lr)\n",
    "\n",
    "for epoch in range(n_epochs):\n",
    "    yhat = a + b * x_train_tensor\n",
    "    \n",
    "    loss = loss_fn(y_train_tensor, yhat)\n",
    "    \n",
    "    loss.backward()\n",
    "    optimizer.step()\n",
    "    optimizer.zero_grad()\n",
    "    \n",
    "print(a, b)"
   ]
  },
  {
   "cell_type": "code",
   "execution_count": 170,
   "id": "e79ce06f",
   "metadata": {},
   "outputs": [],
   "source": [
    "class ManualLinearRegression(nn.Module):\n",
    "    def __init__(self):\n",
    "        super().__init__()\n",
    "        # nn.Parameter makes them a parameter of the model\n",
    "        self.a = nn.Parameter(torch.randn(1, requires_grad=True, dtype=torch.float))\n",
    "        self.b = nn.Parameter(torch.randn(1, requires_grad=True, dtype=torch.float))\n",
    "        \n",
    "    def forward(self, x):\n",
    "        # compute the prediction\n",
    "        return self.a + self.b * x"
   ]
  },
  {
   "cell_type": "code",
   "execution_count": 171,
   "id": "ca51211f",
   "metadata": {},
   "outputs": [
    {
     "name": "stdout",
     "output_type": "stream",
     "text": [
      "OrderedDict([('a', tensor([0.3367])), ('b', tensor([0.1288]))])\n",
      "OrderedDict([('a', tensor([1.0235])), ('b', tensor([1.9690]))])\n"
     ]
    }
   ],
   "source": [
    "torch.manual_seed(42)\n",
    "\n",
    "model = ManualLinearRegression().to(device)\n",
    "\n",
    "# inspect the model parameters\n",
    "print(model.state_dict())\n",
    "\n",
    "lr = 1e-1\n",
    "n_epochs = 1000\n",
    "\n",
    "loss_fn = nn.MSELoss(reduction='mean')\n",
    "optimizer = optim.SGD(model.parameters(), lr=lr)\n",
    "\n",
    "for epoch in range(n_epochs):\n",
    "    # this does not perform a training step, it sets the model\n",
    "    # to training mode\n",
    "    model.train()\n",
    "    \n",
    "    # this computes the prediction\n",
    "    yhat = model(x_train_tensor)\n",
    "    \n",
    "    loss = loss_fn(y_train_tensor, yhat)\n",
    "    loss.backward()\n",
    "    \n",
    "    optimizer.step()\n",
    "    optimizer.zero_grad()\n",
    "    \n",
    "print(model.state_dict())"
   ]
  },
  {
   "cell_type": "code",
   "execution_count": 176,
   "id": "4baa6579",
   "metadata": {},
   "outputs": [],
   "source": [
    "class LayerLinearRegression(nn.Module):\n",
    "    def __init__(self):\n",
    "        super().__init__()\n",
    "        # the same as our custom parameters, use a linear layer with \n",
    "        # a single input and output\n",
    "        self.linear = nn.Linear(1, 1)\n",
    "        \n",
    "    # compute the prediction\n",
    "    def forward(self, x):\n",
    "        return self.linear(x)"
   ]
  },
  {
   "cell_type": "code",
   "execution_count": 177,
   "id": "8664c752",
   "metadata": {},
   "outputs": [
    {
     "data": {
      "text/plain": [
       "[Parameter containing:\n",
       " tensor([[ 0.6233, -0.5188]], requires_grad=True),\n",
       " Parameter containing:\n",
       " tensor([0.6146], requires_grad=True)]"
      ]
     },
     "execution_count": 177,
     "metadata": {},
     "output_type": "execute_result"
    }
   ],
   "source": [
    "# get parameters of model\n",
    "[*LayerLinearRegression().parameters()]"
   ]
  },
  {
   "cell_type": "code",
   "execution_count": 182,
   "id": "7a1c71fb",
   "metadata": {},
   "outputs": [],
   "source": [
    "# we can also create a linear layer in one step\n",
    "model = nn.Sequential(nn.Linear(1, 1)).to(device)"
   ]
  },
  {
   "cell_type": "code",
   "execution_count": 201,
   "id": "2d1e4f89",
   "metadata": {},
   "outputs": [
    {
     "name": "stdout",
     "output_type": "stream",
     "text": [
      "OrderedDict([('a', tensor([0.3367])), ('b', tensor([0.1288]))])\n"
     ]
    }
   ],
   "source": [
    "torch.manual_seed(42)\n",
    "\n",
    "model = ManualLinearRegression().to(device)\n",
    "\n",
    "loss_fn = nn.MSELoss(reduction='mean')\n",
    "optimizer = optim.SGD(model.parameters(), lr=lr)\n",
    "\n",
    "print(model.state_dict())\n",
    "\n",
    "# create the training step in a function\n",
    "\n",
    "def make_train_step(model, loss_fn, optimizer):\n",
    "    # this is the training loop\n",
    "    def train_step(x, y):\n",
    "        # set the model to train mode\n",
    "        model.train()\n",
    "        # make prediction\n",
    "        yhat = model(x)\n",
    "        # compute the loss\n",
    "        loss = loss_fn(y, yhat)\n",
    "        # compute the gradient\n",
    "        loss.backward()\n",
    "        # update the parameters and zero out the gradients\n",
    "        optimizer.step()\n",
    "        optimizer.zero_grad()\n",
    "        # Return the loss\n",
    "        return loss.item()\n",
    "    return train_step\n",
    "\n",
    "train_step = make_train_step(model, loss_fn, optimizer)\n",
    "losses = []\n",
    "\n",
    "for epoch in range(n_epochs):\n",
    "    loss = train_step(x_train_tensor, y_train_tensor)\n",
    "    losses.append(loss)"
   ]
  },
  {
   "cell_type": "code",
   "execution_count": 202,
   "id": "d319ac4a",
   "metadata": {},
   "outputs": [
    {
     "data": {
      "text/plain": [
       "[0.008044655434787273,\n",
       " 0.008044655434787273,\n",
       " 0.008044655434787273,\n",
       " 0.008044655434787273,\n",
       " 0.008044655434787273,\n",
       " 0.008044655434787273,\n",
       " 0.008044655434787273,\n",
       " 0.008044655434787273,\n",
       " 0.008044655434787273,\n",
       " 0.008044655434787273,\n",
       " 0.008044655434787273,\n",
       " 0.008044655434787273,\n",
       " 0.008044655434787273,\n",
       " 0.008044655434787273,\n",
       " 0.008044655434787273,\n",
       " 0.008044655434787273,\n",
       " 0.008044655434787273,\n",
       " 0.008044655434787273,\n",
       " 0.008044655434787273,\n",
       " 0.008044655434787273]"
      ]
     },
     "execution_count": 202,
     "metadata": {},
     "output_type": "execute_result"
    }
   ],
   "source": [
    "losses[-20:]"
   ]
  },
  {
   "cell_type": "code",
   "execution_count": 203,
   "id": "269188ab",
   "metadata": {},
   "outputs": [
    {
     "name": "stdout",
     "output_type": "stream",
     "text": [
      "Parameter containing:\n",
      "tensor([1.0235], requires_grad=True)\n",
      "Parameter containing:\n",
      "tensor([1.9690], requires_grad=True)\n"
     ]
    },
    {
     "data": {
      "text/plain": [
       "OrderedDict([('a', tensor([1.0235])), ('b', tensor([1.9690]))])"
      ]
     },
     "execution_count": 203,
     "metadata": {},
     "output_type": "execute_result"
    }
   ],
   "source": [
    "for parameter in model.parameters():\n",
    "    print(parameter)\n",
    "\n",
    "model.state_dict()"
   ]
  },
  {
   "cell_type": "code",
   "execution_count": 205,
   "id": "9d155732",
   "metadata": {},
   "outputs": [
    {
     "name": "stdout",
     "output_type": "stream",
     "text": [
      "(tensor([0.7713]), tensor([2.4745]))\n",
      "(tensor([0.7713]), tensor([2.4745]))\n"
     ]
    }
   ],
   "source": [
    "from torch.utils.data import Dataset, TensorDataset\n",
    "\n",
    "class CustomDataset(Dataset):\n",
    "    def __init__(self, x_tensor, y_tensor):\n",
    "        self.x = x_tensor\n",
    "        self.y = y_tensor\n",
    "    \n",
    "    def __getitem__(self, index):\n",
    "        return (self.x[index], self.y[index])\n",
    "    \n",
    "    def __len__(self):\n",
    "        return len(self.x)\n",
    "\n",
    "x_train_tensor = torch.from_numpy(x_train).float()\n",
    "y_train_tensor = torch.from_numpy(y_train).float()\n",
    "\n",
    "train_data = CustomDataset(x_train_tensor, y_train_tensor)\n",
    "print(train_data[0])\n",
    "\n",
    "# if our dataset is just tensors below is the same as setting up our \n",
    "# CustomDataset\n",
    "train_data = TensorDataset(x_train_tensor, y_train_tensor)\n",
    "print(train_data[0])"
   ]
  },
  {
   "cell_type": "code",
   "execution_count": 206,
   "id": "b6991f0b",
   "metadata": {},
   "outputs": [],
   "source": [
    "from torch.utils.data import DataLoader\n",
    "# after iterating over all batches the data will be shuffled\n",
    "train_loader = DataLoader(dataset=train_data, batch_size=16, shuffle=True)"
   ]
  },
  {
   "cell_type": "code",
   "execution_count": 209,
   "id": "9af2b059",
   "metadata": {},
   "outputs": [
    {
     "data": {
      "text/plain": [
       "[tensor([[0.2809],\n",
       "         [0.8287],\n",
       "         [0.1560],\n",
       "         [0.5613],\n",
       "         [0.1960],\n",
       "         [0.9869],\n",
       "         [0.7081],\n",
       "         [0.9489],\n",
       "         [0.1409],\n",
       "         [0.9699],\n",
       "         [0.3117],\n",
       "         [0.3585],\n",
       "         [0.8872],\n",
       "         [0.1159],\n",
       "         [0.8084],\n",
       "         [0.0206]]),\n",
       " tensor([[1.5846],\n",
       "         [2.7388],\n",
       "         [1.2901],\n",
       "         [2.0472],\n",
       "         [1.4393],\n",
       "         [3.0520],\n",
       "         [2.3660],\n",
       "         [2.8903],\n",
       "         [1.1211],\n",
       "         [2.9727],\n",
       "         [1.7637],\n",
       "         [1.7462],\n",
       "         [2.8708],\n",
       "         [1.1603],\n",
       "         [2.6141],\n",
       "         [1.1327]])]"
      ]
     },
     "execution_count": 209,
     "metadata": {},
     "output_type": "execute_result"
    }
   ],
   "source": [
    "next(iter(train_loader))"
   ]
  },
  {
   "cell_type": "code",
   "execution_count": 210,
   "id": "7357f8ca",
   "metadata": {},
   "outputs": [
    {
     "name": "stdout",
     "output_type": "stream",
     "text": [
      "OrderedDict([('a', tensor([1.0254])), ('b', tensor([1.9693]))])\n"
     ]
    }
   ],
   "source": [
    "losses = []\n",
    "\n",
    "torch.manual_seed(42)\n",
    "\n",
    "model = ManualLinearRegression().to(device)\n",
    "\n",
    "loss_fn = nn.MSELoss(reduction='mean')\n",
    "optimizer = optim.SGD(model.parameters(), lr=lr)\n",
    "\n",
    "train_step = make_train_step(model, loss_fn, optimizer)\n",
    "\n",
    "for epoch in range(n_epochs):\n",
    "    for x_batch, y_batch in train_loader:\n",
    "        # this only sends one mini-batch to the device\n",
    "        # the best way is to load all data into a CPU tensor and then\n",
    "        # send mini batches to the GPU\n",
    "        x_batch = x_batch.to(device)\n",
    "        y_batch = y_batch.to(device)\n",
    "        \n",
    "        loss = train_step(x_batch, y_batch)\n",
    "        losses.append(loss)\n",
    "\n",
    "print(model.state_dict())"
   ]
  },
  {
   "cell_type": "code",
   "execution_count": 211,
   "id": "c09e38b6",
   "metadata": {},
   "outputs": [],
   "source": [
    "from torch.utils.data.dataset import random_split\n",
    "\n",
    "x_tensor = torch.from_numpy(x).float()\n",
    "y_tensor = torch.from_numpy(y).float()\n",
    "\n",
    "dataset = TensorDataset(x_tensor, y_tensor)\n",
    "\n",
    "train_dataset, val_dataset = random_split(dataset, [80, 20])\n",
    "\n",
    "train_loader = DataLoader(dataset=train_dataset, batch_size=16)\n",
    "val_loader = DataLoader(dataset=train_dataset, batch_size=20)\n"
   ]
  },
  {
   "cell_type": "code",
   "execution_count": 212,
   "id": "97f27718",
   "metadata": {},
   "outputs": [],
   "source": [
    "losses = []\n",
    "val_losses = []\n",
    "torch.manual_seed(42)\n",
    "\n",
    "model = ManualLinearRegression().to(device)\n",
    "\n",
    "loss_fn = nn.MSELoss(reduction='mean')\n",
    "optimizer = optim.SGD(model.parameters(), lr=lr)\n",
    "\n",
    "train_step = make_train_step(model, loss_fn, optimizer)\n",
    "\n",
    "for epoch in range(n_epochs):\n",
    "    for x_batch, y_batch in train_loader:\n",
    "        x_batch = x_batch.to(device)\n",
    "        y_batch = y_batch.to(device)\n",
    "        \n",
    "        loss = train_step(x_batch, y_batch)\n",
    "        \n",
    "        losses.append(loss)\n",
    "    # disables any gradient calculation\n",
    "    with torch.no_grad():\n",
    "        for x_val, y_val in val_loader:\n",
    "            x_val = x_val.to(device)\n",
    "            y_val = y_val.to(device)\n",
    "            # sets the model to evaluation mode\n",
    "            model.eval()\n",
    "            \n",
    "            yhat = model(x_val)\n",
    "            val_loss = loss_fn(y_val, yhat)\n",
    "            val_losses.append(val_loss.item())\n"
   ]
  },
  {
   "cell_type": "code",
   "execution_count": 213,
   "id": "57e950ec",
   "metadata": {},
   "outputs": [
    {
     "name": "stdout",
     "output_type": "stream",
     "text": [
      "OrderedDict([('a', tensor([1.0196])), ('b', tensor([1.9666]))])\n"
     ]
    }
   ],
   "source": [
    "print(model.state_dict())"
   ]
  },
  {
   "cell_type": "code",
   "execution_count": 215,
   "id": "a0ff5a19",
   "metadata": {},
   "outputs": [
    {
     "data": {
      "text/plain": [
       "[0.007936665788292885,\n",
       " 0.00913272611796856,\n",
       " 0.0071699246764183044,\n",
       " 0.008547837845981121,\n",
       " 0.012191972695291042,\n",
       " 0.007936665788292885,\n",
       " 0.00913272611796856,\n",
       " 0.0071699246764183044,\n",
       " 0.008547837845981121,\n",
       " 0.012191972695291042]"
      ]
     },
     "execution_count": 215,
     "metadata": {},
     "output_type": "execute_result"
    }
   ],
   "source": [
    "losses[-10:]"
   ]
  },
  {
   "cell_type": "code",
   "execution_count": 216,
   "id": "8b34c6e3",
   "metadata": {},
   "outputs": [
    {
     "data": {
      "text/plain": [
       "[0.009594408795237541,\n",
       " 0.011247535236179829,\n",
       " 0.007542886771261692,\n",
       " 0.007245482411235571,\n",
       " 0.009594408795237541,\n",
       " 0.011247535236179829,\n",
       " 0.007542886771261692,\n",
       " 0.007245482411235571,\n",
       " 0.009594408795237541,\n",
       " 0.011247535236179829]"
      ]
     },
     "execution_count": 216,
     "metadata": {},
     "output_type": "execute_result"
    }
   ],
   "source": [
    "val_losses[-10:]"
   ]
  }
 ],
 "metadata": {
  "kernelspec": {
   "display_name": "Python 3 (ipykernel)",
   "language": "python",
   "name": "python3"
  },
  "language_info": {
   "codemirror_mode": {
    "name": "ipython",
    "version": 3
   },
   "file_extension": ".py",
   "mimetype": "text/x-python",
   "name": "python",
   "nbconvert_exporter": "python",
   "pygments_lexer": "ipython3",
   "version": "3.9.7"
  }
 },
 "nbformat": 4,
 "nbformat_minor": 5
}
